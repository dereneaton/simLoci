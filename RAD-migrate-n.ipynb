{
 "metadata": {
  "name": "",
  "signature": "sha256:3d92f0b999192f9705daa3a84da0f7648dd1826dd6b165e2709ace441d2b7fae"
 },
 "nbformat": 3,
 "nbformat_minor": 0,
 "worksheets": [
  {
   "cells": [
    {
     "cell_type": "markdown",
     "metadata": {},
     "source": [
      "# Analyzing RADseq data with _migrate-N_  \n",
      "#### contact: deren.eaton@yale.edu  \n",
      "\n",
      "---------------------   \n"
     ]
    },
    {
     "cell_type": "markdown",
     "metadata": {},
     "source": [
      "With this post I have two goals: first, to show an example of the new updated `simLoci` program, and second to investigate the program _migrate-N_ using data simulated in `simLoci`, which now provides output data formatted for _migrate-N_ among several other formats. "
     ]
    },
    {
     "cell_type": "markdown",
     "metadata": {},
     "source": [
      "### Simulating data under a migration model"
     ]
    },
    {
     "cell_type": "code",
     "collapsed": false,
     "input": [
      "%%bash\n",
      "## download or clone the simulation program simLoci\n",
      "wget -q https://raw.githubusercontent.com/dereneaton/simLoci/master/simLoci.py \\\n",
      "     --no-check-certificate"
     ],
     "language": "python",
     "metadata": {},
     "outputs": [],
     "prompt_number": 208
    },
    {
     "cell_type": "code",
     "collapsed": false,
     "input": [
      "%%bash\n",
      "## save the example input tree as a newick string\n",
      "## resolve polytomies with nearly zero length branch lengths\n",
      "tree=\"(((A:0.5,B:0.5):0.0001,(C:0.5,D:0.5):0.0001):0.0001,E:0.5002);\"\n",
      "\n",
      "## save migration scenarios as a string, separated by \"/\"\n",
      "## 2 migrants per gen between A-B\n",
      "## 1 migrant per gen between C-D\n",
      "## no migration w/ E\n",
      "migs=\"\\\n",
      "[A,B,0.0,0.25,5e-7]/\\\n",
      "[B,A,0.0,0.25,5e-7]/\\\n",
      "[C,D,0.0,0.25,2.5e-7]/\\\n",
      "[D,C,0.0,0.25,2.5e-7]\"\n",
      "\n",
      "## simulate data with the following parameters\n",
      "## requires the Python packages `Egglib` & `Numpy`\n",
      "python simLoci.py  -L 10 \\\n",
      "                   -l 90 \\\n",
      "                   -u 1e-9 \\\n",
      "                   -N 1e6 \\\n",
      "                   -i 6 \\\n",
      "                   -t $tree \\\n",
      "                   -m $migs \\\n",
      "                   -s 12345 \\\n",
      "                   -f m,p,n,k \\\n",
      "                   -v \\\n",
      "                   -o \"sim10\""
     ],
     "language": "python",
     "metadata": {},
     "outputs": [
      {
       "output_type": "stream",
       "stream": "stdout",
       "text": [
        "verbose True\n",
        "N 1000000\n",
        "seed 123456\n",
        "outform m,p,n,k\n",
        "outname sim10\n",
        "inds 6\n",
        "Loci 10\n",
        "tree (((A:0.5,B:0.5):0.0001,(C:0.5,D:0.5):0.0001):0.0001,E:0.5002);\n",
        "migs [A,B,0.0,0.25,5e-7]/[B,A,0.0,0.25,5e-7]/[C,D,0.0,0.25,2.5e-7]/[D,C,0.0,0.25,2.5e-7]\n",
        "mu 1e-09\n",
        "length 90\n",
        "u 1e-09\n",
        "theta 0.36\n"
       ]
      }
     ],
     "prompt_number": 202
    },
    {
     "cell_type": "code",
     "collapsed": false,
     "input": [
      "%%bash\n",
      "ls sim*"
     ],
     "language": "python",
     "metadata": {},
     "outputs": [
      {
       "output_type": "stream",
       "stream": "stdout",
       "text": [
        "sim10.loci\n",
        "sim10.migrate\n",
        "sim10.nex\n",
        "sim10.phy\n",
        "sim10.str\n",
        "simdata10\n",
        "simdata10.pdf\n",
        "simdata.loci\n",
        "simdata.migrate\n",
        "simdata.nex\n",
        "simdata.phy\n",
        "simdata.str\n",
        "simLoci.py\n",
        "simLoci.py~\n"
       ]
      }
     ],
     "prompt_number": 205
    },
    {
     "cell_type": "code",
     "collapsed": false,
     "input": [
      "%%bash\n",
      "head -n 20 simdata.str | cut -c 1-20"
     ],
     "language": "python",
     "metadata": {},
     "outputs": [
      {
       "output_type": "stream",
       "stream": "stdout",
       "text": [
        "A0   \t\t\t\t\t\t\t0\t3\t3\t1\t\n",
        "A0   \t\t\t\t\t\t\t0\t3\t3\t1\t\n",
        "A1   \t\t\t\t\t\t\t0\t3\t3\t1\t\n",
        "A1   \t\t\t\t\t\t\t0\t3\t3\t1\t\n",
        "A2   \t\t\t\t\t\t\t0\t3\t3\t1\t\n",
        "A2   \t\t\t\t\t\t\t0\t3\t3\t1\t\n",
        "A3   \t\t\t\t\t\t\t0\t3\t3\t1\t\n",
        "A3   \t\t\t\t\t\t\t0\t3\t3\t1\t\n",
        "A4   \t\t\t\t\t\t\t0\t3\t3\t1\t\n",
        "A4   \t\t\t\t\t\t\t0\t3\t3\t1\t\n",
        "A5   \t\t\t\t\t\t\t0\t3\t3\t1\t\n",
        "A5   \t\t\t\t\t\t\t0\t3\t3\t1\t\n",
        "B0   \t\t\t\t\t\t\t0\t3\t3\t1\t\n",
        "B0   \t\t\t\t\t\t\t0\t3\t3\t1\t\n",
        "B1   \t\t\t\t\t\t\t0\t3\t3\t1\t\n",
        "B1   \t\t\t\t\t\t\t0\t3\t3\t1\t\n",
        "B2   \t\t\t\t\t\t\t0\t3\t3\t1\t\n",
        "B2   \t\t\t\t\t\t\t0\t3\t3\t1\t\n",
        "B3   \t\t\t\t\t\t\t0\t3\t3\t1\t\n",
        "B3   \t\t\t\t\t\t\t0\t3\t3\t1\t\n"
       ]
      }
     ],
     "prompt_number": 199
    },
    {
     "cell_type": "code",
     "collapsed": false,
     "input": [
      "%%bash\n",
      "head -n 20 simdata.migrate | cut -c 1-90"
     ],
     "language": "python",
     "metadata": {},
     "outputs": [
      {
       "output_type": "stream",
       "stream": "stdout",
       "text": [
        "5 100 ( npops nloci for sim data simdata.loci )\n",
        "90 90 90 90 90 90 90 90 90 90 90 90 90 90 90 90 90 90 90 90 90 90 90 90 90 90 90 90 90 90 \n",
        "6 6 6 6 6 6 6 6 6 6 6 6 6 6 6 6 6 6 6 6 6 6 6 6 6 6 6 6 6 6 6 6 6 6 6 6 6 6 6 6 6 6 6 6 6 \n",
        "ind_0     AGGACCTTCCATTGAACATCGGTTGAGAACAACGTTCAGAACTGGAAGATGCTAAAAGATCGAGCTTTCGATTGCCGTAT\n",
        "ind_1     AGGACCTTCCATTGAACATCGGTTGAGAACAACGTTCAGAACTGGAAGATGCTAAAAGATCGAGCTTTCGATTGCCGTAT\n",
        "ind_2     AGGACCTTCCATTGAACATCGGTTGAGAACAACGTTCAGAACTGGAAGATGCTAAAAGATCGAGCTYTCGATTGCCKTAT\n",
        "ind_3     AGGACCTTCCATTGAACATCGGTTGAGAACAACGTTCAGAACTGGAAGATGCTAAAAGATCGAGCTTTCGATTGCCGTAT\n",
        "ind_4     AGGACCTTCCATTGAACATCGGTTGAGAACAACGTTCAGAACTGGAAGATGCTAAAAGATCGAGCTYTCGATTGCCKTAT\n",
        "ind_5     AGGACCTTCCATTGAACATCGGTTGAGAACAACGTTCAGAACTGGAAGATGCTAAAAGATCGAGCTTTCGATTGCCGTAT\n",
        "ind_0     CCCTGTTGATCTTTCCTCGGCACCTGGCAGAACAACGAGATGCGAATCCTGACACTCTACTACACACCAGTCACTAGGAG\n",
        "ind_1     CCCTGTTGATCTTTCCTCGGCACCTGGCAGAACAACGAGATGCGAATCCTGACACTCTACTACACACCAGTCACTAGGAG\n",
        "ind_2     CCCTGTTGATCTTTCCTCGGCACCTGGCAGAACAACGAGATGCGAATCCTGACACTCTACTACACACCAGTCACTAGGAG\n",
        "ind_3     CCCTGTTGATCTTTCCTCGGCACCTGGCAGAACAACGAGATGCGAATCCTGACACTCTACTACACACCAGTCACTAGGAG\n",
        "ind_4     CCCTGTTGATCTTTCCTCGGCACCTGGCAGAACAACGAGATGCGAATCCTGACACTCTACTACACACCAGTCACTAGGAG\n",
        "ind_5     CCCTGTTGATCTTTCCTCGGCACCTGGCAGAACAACGAGATGCGAATCCTGACACTCTACTACACACCAGTCACTAGGAG\n",
        "ind_0     AAACTACCAGCGGATCTTCTGCACAGATCAAATCTTGTGGGTCGTATATCCAGTTACATTATCCTAGTTAATGTGGGTAA\n",
        "ind_1     AAACTACCAGCGGATCTTCTGCACAGATCAAATCTTGTGGGTCGTATATCCAGTTACATTATCCTAGTTAATGTGGGTAA\n",
        "ind_2     AAACTACCAGCGGATCTTCTGCACAGATCAAATCTTGTGGGTCGTATATCCAGTTACATTATCCTAGTTAATGTGGGTAA\n",
        "ind_3     AAACTACCAGCGGATCTTCTGCACAGATCAAATCTTGTGGGTCGTATATCCAGTTACATTATCCTAGTTAATGTGGGTAA\n",
        "ind_4     AAACTACCAGCGGATCTTCTGCACAGATCAAATCTTGTGGGTCGTATATCCAGTTACATTATCCTAGTTAATGTGGGTAA\n"
       ]
      }
     ],
     "prompt_number": 169
    },
    {
     "cell_type": "code",
     "collapsed": false,
     "input": [
      "%%bash\n",
      "head -n 20 simdata.nex | cut -c 1-90"
     ],
     "language": "python",
     "metadata": {},
     "outputs": [
      {
       "output_type": "stream",
       "stream": "stdout",
       "text": [
        "#NEXUS\n",
        "BEGIN DATA;\n",
        "  DIMENSIONS NTAX=30 NCHAR=1800;\n",
        "  FORMAT DATATYPE=DNA MISSING=N GAP=- INTERLEAVE=YES;\n",
        "  MATRIX\n",
        "  A1   AACCGAGCTTCTACTAAATAATTGGAGGCCTCTCGATATCAAGCGACCAGCGACAATTATCACACCTTCACTACAGTTGCCAT\n",
        "  A0   AACCGAGCTTCTACTAAATAATTGGAGGCCTCTCGATATCAAGCGACCAGCGACAATTATCACACCTTCACTACAGTTGCCAT\n",
        "  A3   AACCGAGCTTCTACTAAATAATTGGAGGCCTCTCGATATCAAGCGACCAGCGACAATTATCACACCTTCACTACAGTTGCCAT\n",
        "  A2   AACCGAGCTTCTACTAAATAATTGGAGGCCTCTCGATATCAAGCGACCAGCGACAATTATCACACCTTCACTACAGTTGCCAT\n",
        "  A5   AACCGAGCTTCTACTAAATAATTGGAGGCCTCTCGATATCAAGCGACCAGCGACAATTATCACACCTTCACTACAGTTGCCAT\n",
        "  A4   AACCGAGCTTCTACTAAATAATTGGAGGCCTCTCGATATCAAGCGACCAGCGACAATTATCACACCTTCACTACAGTTGCCAT\n",
        "  C3   AACCGAGCTTCTACTAAATAATTGGAGGCCTCTCGATATCAAGCGACCAGCGACAATTATCACACCTTCACTACAGTTGCCAT\n",
        "  C2   AACCGAGCTTCTACTAAATAATTGGAGGCCTCTCGATATCRAGCGACCAGCGACAATTATCACACCTTCACTACAGTTGCCAT\n",
        "  C1   AACCGAGCTTCTACTAAATAATTGGAGGCCTCTCGATATCAAGCGACCAGCGACAATTATCACACCTTCACTACAGTTGCCAT\n",
        "  C0   AACCGAGCTTCTACTAAATAATTGGAGGCCTCTCGATATCAAGCGACCAGCGACAATTATCACACCTTCACTACAGTTGCCAT\n",
        "  E1   AACCGAGCTTCTACTAAATAATTGGAGGCCTCTCGATATCAAGCGACCAGCGACAATTATCACACCTTCACTACAGTTGCCAT\n",
        "  E0   AACCGAGCTTCTACTAAATAATTGGAGGCCTCTCGATATCAAGCGACCAGCGACAATTATCACACCTTCACTACAGTTGCCAT\n",
        "  C5   AACCGAGCTTCTACTAAATAATTGGAGGCCTCTCGATATCAAGCGACCAGCGACAATTATCACACCTTCACTACAGTTGCCAT\n",
        "  C4   AACCGAGCTTCTACTAAATAATTGGAGGCCTCTCGATATCAAGCGACCAGCGACAATTATCACACCTTCACTACAGTTGCCAT\n",
        "  E5   AACCGAGCTTCTACTAAATAATTGGAGGCCTCTCGATATCAAGCGACCAGCGACAATTATCACACCTTCACTACAGTTGCCAT\n"
       ]
      }
     ],
     "prompt_number": 162
    },
    {
     "cell_type": "code",
     "collapsed": false,
     "input": [
      "%%bash\n",
      "head -n 31 simdata.loci | cut -c 1-90"
     ],
     "language": "python",
     "metadata": {},
     "outputs": [
      {
       "output_type": "stream",
       "stream": "stdout",
       "text": [
        ">A0        GGGTGGATTAGGCGGATGTTTCCCATACGAAAGATGATTTCACCACAATGAAGCCAGGTTGGGAGACACATCCCACTTC\n",
        ">A1        GGGTGGATTAGGCGGATGTTTCCCATACGAAAGATGATTTCACMACAATGAAGCCAGGTTGGGAGACACATCCCACTTC\n",
        ">A2        GGGTGTATTAGGCCGATGTTTCCCATACGAAAGATGATTTCACCACAATGAAGCCAGGTTGGGAGACACATCCCACTTC\n",
        ">A3        GGGTGKATTAGGCSGATGTTTCCCATACGAAAGATGATTTCACCACAATGAAGCCAGGTTGGGAGACACATCCCACTTC\n",
        ">A4        GGGTGKATTAGGCSGATGTTTCCCATACGAAAGATGATTTCACCACAATGAAGCCAGGTTGGGAGACACATCCCACTTC\n",
        ">A5        GGGTGGATTAGGCGGATGTTTCCCATACGAAAGATGATTTCACMACAATGAAGCCAGGTTGGGAGACACATCCCACTTC\n",
        ">B0        GGGTGGATTAGGCGGATGTTTCCCATACGAAAGATGATTTCACAACAATGAAGCCAGGTTGGGAGACACATCCCACTTC\n",
        ">B1        GGGTGKATTAGGCKGATGTTTCCCATACGAAAGATGATTTCACCACAATGAAGCCAGGTTGGGAGACACATCCCACTTC\n",
        ">B2        GRGTGTMTTAGGCTGATGTTTCCCATACGAAAGATGATTTCACCACAATGAAGCCAGGTTGGGAGACACATCCCACTTC\n",
        ">B3        GGGTGKMTTAGGCKGATGTTTCCCATACGAAAGATGATTTCACCACAATGAAGCCAGGTTGGGAGACACATCCCACTTC\n",
        ">B4        GGGTGTMTTAGGCTGATGTTTCCCATACGAAAGATGATTTCACCACAATGAAGCCAGGTTGGGAGACACATCCCACTTC\n",
        ">B5        GGGTGTCTTAGGCTGATGTTTCCCATACGAAAGATGATTTCACCACAATGAAGCCAGGTTGGGAGACACATCCCACTTC\n",
        ">C0        GGGTGGATTAGGCTGATGTTTCCCATACGAAAGATGATTTCACCACAATGAAGCCAGGTTGGGAGACACATCCCACTTC\n",
        ">C1        GGGTGGATTAGGCTGATGTTTCCCATACGAAAGATGATTTCACCACAATGAAGCCAGGTTGGGAGACACATCCCACTTC\n",
        ">C2        GGGTGGATTAGGCTGATGTTTCCCATACGAAAGATGATTTCACCACAATGAAGCCAGGTTGGGAGACACATCCCACTTC\n",
        ">C3        GGGTGGATTAGGCTGATGTTTCCCATACGAAAGATGATTTCACCACAATGAAGCCAGGTTGGGAGACACATCCCACTTC\n",
        ">C4        GGGTGGATTAGGCTGATGTTTCCCATACGAAAGATGATTTCACCACAATGAAGCCAGGTTGGGAGACACATCCCACTTC\n",
        ">C5        GGGTGGATTAGGCTGATGTTTCCCATACGAAAGATGATTTCACCACAATGAAGCCAGGTTGGGAGACACATCCCACTTC\n",
        ">D0        GGGTGGATTAGGCTGATGTTTCCCATACGAAAGATGATTTCACCACAATGAAGCCAGGTTGGGAGACACATCCCACTTC\n",
        ">D1        GGGTGGATTAGGCTGATGTTTCCCATACGAAAGATGATTTCACCACAATGAAGCCAGGTTGGGAGACACATCCCACTTC\n",
        ">D2        GGGTGGATTAGGCTGATGTTTCCCATACGAAAGATGATTTCACCACAATGAAGCCAGGTTGGGAGACACATCCCACTTC\n",
        ">D3        GGGTGGATTAGGCTGATGTTTCCCATACGAAAGATGATTTCACCACAATGAAGCCAGGTTGGGAGACACATCCCACTTC\n",
        ">D4        GGGTGGATTAGGCTGATGTTTCCCATACGAAARATGATTTCACCACAATGAAGCCAGGTTGGGAGACACATCCCACTTC\n",
        ">D5        GGGTGGATTAGGCTGATGTTTCCCATACGAAAGATGATTTCACCACAATGAAGCCAGGTTGGGAGACACATCCCACTTC\n",
        ">E0        GGGTGTATTAGGCTGATGTTTCCCATACGAAAGATGATTTCACCACAATGAAGCCAGGTTGGGMGACACATCCCACTTC\n",
        ">E1        GGGTGTATTAGGCTGATGTTTCCCATACGAAAGATGATTTCACCACAATGAAGCCAGGTTGGGMGACACATCCCACTTC\n",
        ">E2        GGGTGTATTAGGCTGATGTTTCCCATACGAAAGATGATTTCACCACAATGAAGCCAGGTTGGGMGACACATCCCACTTC\n",
        ">E3        GGGTGTATTAGGCTGATGTTTCCCATACGAAAGATGATTTCACCACAATGAAGCCAGGTTGGGAGACACATCCCACTTC\n",
        ">E4        GGGTGTATTAGGCTGATGTTTCCCATACGAAAGATGATTTCACCACAATGAAGCCAGGTTGGGMGACACATCCCACTTC\n",
        ">E5        GGGTGTATTAGGCTGATGTTTCCCATACGAAAGATGATTTCACCACAATGAAGCCAGGTTGGGAGACACATCCCACTTC\n",
        "//          -   **      *                  -          *                   *               \n"
       ]
      }
     ],
     "prompt_number": 206
    },
    {
     "cell_type": "markdown",
     "metadata": {},
     "source": [
      "## Analyze data in migrate-N\n",
      "\n",
      "I set up an analysis with the following changes from the default parmfile: \n",
      "\n",
      "+  A\n",
      "+  B\n",
      "+  C\n"
     ]
    },
    {
     "cell_type": "markdown",
     "metadata": {},
     "source": [
      "We then create three different versions of this parmfile we'll call parm1, parm2, parm3, representing three different models. "
     ]
    },
    {
     "cell_type": "code",
     "collapsed": false,
     "input": [
      "%%bash\n",
      "## sed substitutes the migration model \n",
      "sed model sub > parm1\n",
      "sed model sub > parm2\n",
      "sed model sub > parm3\n",
      "\n",
      "## set printing to quiet\n",
      "\n",
      "## "
     ],
     "language": "python",
     "metadata": {},
     "outputs": []
    },
    {
     "cell_type": "code",
     "collapsed": false,
     "input": [
      "%%bash\n",
      "mpirun -np 11 migrate-n-mpi parm1"
     ],
     "language": "python",
     "metadata": {},
     "outputs": []
    },
    {
     "cell_type": "code",
     "collapsed": false,
     "input": [],
     "language": "python",
     "metadata": {},
     "outputs": []
    }
   ],
   "metadata": {}
  }
 ]
}